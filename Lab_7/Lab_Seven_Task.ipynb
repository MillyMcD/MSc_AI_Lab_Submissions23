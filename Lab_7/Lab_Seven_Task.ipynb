{
 "cells": [
  {
   "cell_type": "markdown",
   "id": "d82e7f43-8630-47df-9aad-b01ca5c9f5c0",
   "metadata": {},
   "source": [
    "# Lab Seven task, creating a collection with the dataset used in Lab Six. Using MongoDB to write a program in python."
   ]
  },
  {
   "cell_type": "markdown",
   "id": "0ffa0679-7d8a-4f5d-8497-c29adf76a985",
   "metadata": {},
   "source": [
    "Importing MongoDB"
   ]
  },
  {
   "cell_type": "code",
   "execution_count": 1,
   "id": "121fac95-2cbd-49c6-8b29-d4299855b5b7",
   "metadata": {},
   "outputs": [],
   "source": [
    "import pymongo"
   ]
  },
  {
   "cell_type": "markdown",
   "id": "359e9ebb-7787-411a-bd46-a0765bbc1f99",
   "metadata": {},
   "source": [
    "Created a Mongo client"
   ]
  },
  {
   "cell_type": "code",
   "execution_count": 2,
   "id": "85755cbd-bd3c-4594-9737-036340bd0ba1",
   "metadata": {},
   "outputs": [],
   "source": [
    "client = pymongo.MongoClient()"
   ]
  },
  {
   "cell_type": "markdown",
   "id": "7bc65a96-10f0-41e4-b9a3-70236e40ee65",
   "metadata": {},
   "source": [
    "Created a database and a collection to store birthdays"
   ]
  },
  {
   "cell_type": "code",
   "execution_count": 3,
   "id": "01b71adb-a0f6-4b51-b450-4adb9bc45da1",
   "metadata": {},
   "outputs": [],
   "source": [
    "db = client['BirthdayDatabase']\n",
    "collection = db[\"Birthdays\"]"
   ]
  },
  {
   "cell_type": "markdown",
   "id": "d15725d5-a033-4b98-b3e8-1a3fa7c9177a",
   "metadata": {},
   "source": [
    "Created a birthday document to insert in collection"
   ]
  },
  {
   "cell_type": "code",
   "execution_count": 4,
   "id": "2eb602ba-5111-4810-98ad-041360c5bd15",
   "metadata": {},
   "outputs": [],
   "source": [
    "doc1 = {'name':'Charlie Day','dob': '09/02/1976'}"
   ]
  },
  {
   "cell_type": "markdown",
   "id": "3be70eb2-40d9-41da-bdb8-75889b45c356",
   "metadata": {},
   "source": [
    "Inserting a single document `insert_one`"
   ]
  },
  {
   "cell_type": "code",
   "execution_count": 5,
   "id": "fb128d26-a436-484e-ac42-c28f9ce9c2bf",
   "metadata": {},
   "outputs": [
    {
     "data": {
      "text/plain": [
       "<pymongo.results.InsertOneResult at 0x105e50be0>"
      ]
     },
     "execution_count": 5,
     "metadata": {},
     "output_type": "execute_result"
    }
   ],
   "source": [
    "collection.insert_one(doc1)"
   ]
  },
  {
   "cell_type": "markdown",
   "id": "f9660986-5d33-4d05-917c-0f8d7e134c86",
   "metadata": {},
   "source": [
    "Checking how many documents are in the collection"
   ]
  },
  {
   "cell_type": "code",
   "execution_count": 6,
   "id": "33f7b6f6-f351-4bfd-b132-5cb8c4a1f0dc",
   "metadata": {},
   "outputs": [
    {
     "name": "stdout",
     "output_type": "stream",
     "text": [
      "1\n"
     ]
    }
   ],
   "source": [
    "document_count = collection.count_documents({})\n",
    "print(document_count)"
   ]
  },
  {
   "cell_type": "markdown",
   "id": "7c05b682-ef63-430a-9030-51c36559b5b9",
   "metadata": {},
   "source": [
    "Creating two more documents to be added into the collection"
   ]
  },
  {
   "cell_type": "code",
   "execution_count": 7,
   "id": "abdb0f89-dd07-4d6f-bfbc-c9edad1921c8",
   "metadata": {},
   "outputs": [],
   "source": [
    "doc2 = {'name':'Steven Fry','dob':'24/08/1957'}\n",
    "doc3 = {'name':'Lucy Lawless','dob':'29/03/1968'}"
   ]
  },
  {
   "cell_type": "markdown",
   "id": "e316758a-a24d-4c5b-9358-820646adb8b6",
   "metadata": {},
   "source": [
    "Cleared previous test data from the collection"
   ]
  },
  {
   "cell_type": "raw",
   "id": "5af0ebc0-ceae-44e4-aeac-523800984fc5",
   "metadata": {},
   "source": [
    "collection.delete_many({})"
   ]
  },
  {
   "cell_type": "markdown",
   "id": "0cef1335-772b-47df-b393-433121ff54f9",
   "metadata": {},
   "source": [
    "Inserted more thna one document into the collection `insert_many`"
   ]
  },
  {
   "cell_type": "code",
   "execution_count": 8,
   "id": "ebadedd6-d9ff-49df-9539-d62056855508",
   "metadata": {},
   "outputs": [
    {
     "data": {
      "text/plain": [
       "<pymongo.results.InsertManyResult at 0x105e50400>"
      ]
     },
     "execution_count": 8,
     "metadata": {},
     "output_type": "execute_result"
    }
   ],
   "source": [
    "collection.insert_many([doc2,doc3])"
   ]
  },
  {
   "cell_type": "markdown",
   "id": "01bc4dda-4104-42e0-b2d0-5b4e143407a5",
   "metadata": {},
   "source": [
    "Checking how many documents are in the collection"
   ]
  },
  {
   "cell_type": "code",
   "execution_count": 9,
   "id": "5f674602-7737-4b08-ae80-9736f155f340",
   "metadata": {},
   "outputs": [
    {
     "name": "stdout",
     "output_type": "stream",
     "text": [
      "3\n"
     ]
    }
   ],
   "source": [
    "document_count = collection.count_documents({})\n",
    "print(document_count)"
   ]
  },
  {
   "cell_type": "markdown",
   "id": "69dc6480-1ea2-4bcb-a5d1-2ff623236899",
   "metadata": {},
   "source": [
    "Using a query to find data that matches `Charlie Day`"
   ]
  },
  {
   "cell_type": "code",
   "execution_count": 12,
   "id": "ee27d11b-e2f8-4e5e-816f-e77383bf6ac2",
   "metadata": {},
   "outputs": [],
   "source": [
    "query = {\"name\": \"Charlie Day\"} \n",
    "\n",
    "results = collection.find(query)"
   ]
  },
  {
   "cell_type": "markdown",
   "id": "b20120d2-2425-4b52-a4bb-132faa202b26",
   "metadata": {},
   "source": [
    "Printing `results`"
   ]
  },
  {
   "cell_type": "code",
   "execution_count": 13,
   "id": "689ad7bc-3e59-4aa2-973d-ace2b4dd6b43",
   "metadata": {},
   "outputs": [
    {
     "name": "stdout",
     "output_type": "stream",
     "text": [
      "{'_id': ObjectId('652904477a6fa33825cabf25'), 'name': 'Charlie Day', 'dob': '09/02/1976'}\n"
     ]
    }
   ],
   "source": [
    "for doc in results:\n",
    "    print(doc)"
   ]
  },
  {
   "cell_type": "code",
   "execution_count": null,
   "id": "003401d2-7612-41b0-8c37-a54db7538026",
   "metadata": {},
   "outputs": [],
   "source": []
  }
 ],
 "metadata": {
  "kernelspec": {
   "display_name": "Python 3 (ipykernel)",
   "language": "python",
   "name": "python3"
  },
  "language_info": {
   "codemirror_mode": {
    "name": "ipython",
    "version": 3
   },
   "file_extension": ".py",
   "mimetype": "text/x-python",
   "name": "python",
   "nbconvert_exporter": "python",
   "pygments_lexer": "ipython3",
   "version": "3.10.11"
  }
 },
 "nbformat": 4,
 "nbformat_minor": 5
}
