{
  "nbformat": 4,
  "nbformat_minor": 0,
  "metadata": {
    "colab": {
      "provenance": []
    },
    "kernelspec": {
      "name": "python3",
      "display_name": "Python 3"
    },
    "language_info": {
      "name": "python"
    }
  },
  "cells": [
    {
      "cell_type": "markdown",
      "source": [
        "#Exercise\n",
        "Class exercise to produce \"*\" x row number"
      ],
      "metadata": {
        "id": "GH7D2Gji0XpD"
      }
    },
    {
      "cell_type": "code",
      "source": [
        "for i in range(1,11):\n",
        "  print(i*\"*\") #if you multiply a string by an int, it will concatenate the string int times"
      ],
      "metadata": {
        "colab": {
          "base_uri": "https://localhost:8080/"
        },
        "id": "p5RTzjQU0Wzn",
        "outputId": "0e41c9f8-a8b9-46d2-e0d5-6db31dc6b829"
      },
      "execution_count": 3,
      "outputs": [
        {
          "output_type": "stream",
          "name": "stdout",
          "text": [
            "*\n",
            "**\n",
            "***\n",
            "****\n",
            "*****\n",
            "******\n",
            "*******\n",
            "********\n",
            "*********\n",
            "**********\n"
          ]
        }
      ]
    },
    {
      "cell_type": "markdown",
      "source": [
        "#1 Objectives"
      ],
      "metadata": {
        "id": "N-sVdwfl1G1o"
      }
    },
    {
      "cell_type": "code",
      "execution_count": 4,
      "metadata": {
        "id": "LGKYeqDGre5W",
        "outputId": "8ab844bb-7b7f-4bbe-a0ca-58b8610fc765",
        "colab": {
          "base_uri": "https://localhost:8080/"
        }
      },
      "outputs": [
        {
          "output_type": "stream",
          "name": "stdout",
          "text": [
            "<function shopping_list at 0x78884130a290>\n",
            "1.0\n",
            "string\n",
            "apple\n",
            "4\n",
            "5\n",
            "6\n"
          ]
        },
        {
          "output_type": "execute_result",
          "data": {
            "text/plain": [
              "(1.0, 'string', 'apple', 4, 5, 6)"
            ]
          },
          "metadata": {},
          "execution_count": 4
        }
      ],
      "source": [
        "def shopping_list(apples,oranges,bananas,soup,bread,chocolate):\n",
        "    print(apples)\n",
        "    print(oranges)\n",
        "    print(bananas)\n",
        "    print(soup)\n",
        "    print(bread)\n",
        "    print(chocolate)\n",
        "    return apples, oranges, bananas, soup, bread, chocolate\n",
        "\n",
        "print (shopping_list) #im printing the function and it's returning it's memory address\n",
        "\n",
        "shopping_list(apples=1.0,oranges='string',bananas='apple',soup=4,bread=5,chocolate=6)\n",
        "# chose the wrong function for the task\n",
        "# I wanted a container to store some values, but a function is the wrong way to do it\n",
        "# instead I could use a tuple, list or dictionary"
      ]
    },
    {
      "cell_type": "markdown",
      "source": [
        "Representing the shopping list as a `list` and writing a function to print it nicely"
      ],
      "metadata": {
        "id": "o5-l19NPann7"
      }
    },
    {
      "cell_type": "code",
      "source": [
        "shopping_list = ['apples','oranges','bananas','soup','bread','chocolate']\n",
        " #print(shopping_list) #this works how I expected, but doesn't present how I wanted\n",
        "\n",
        "def pretty_print_list(any_list):\n",
        "  for i in any_list: #'for' loops through the list one element at a time, you always use i\n",
        "    #print(i) #this will print i (the value of each list element) on its own line\n",
        "    j=f\"* {i}\"\n",
        "    print(j)\n",
        "  return\n",
        "\n",
        "pretty_print_list(any_list=shopping_list)"
      ],
      "metadata": {
        "id": "UL2IYeFHrvSj",
        "outputId": "d3062278-4d27-4569-ded5-54b0be9594c7",
        "colab": {
          "base_uri": "https://localhost:8080/"
        }
      },
      "execution_count": 5,
      "outputs": [
        {
          "output_type": "stream",
          "name": "stdout",
          "text": [
            "* apples\n",
            "* oranges\n",
            "* bananas\n",
            "* soup\n",
            "* bread\n",
            "* chocolate\n"
          ]
        }
      ]
    },
    {
      "cell_type": "code",
      "source": [
        "range(7)"
      ],
      "metadata": {
        "id": "_531MZ03rwmZ",
        "colab": {
          "base_uri": "https://localhost:8080/"
        },
        "outputId": "28b3f6e1-4b90-4e7a-994c-aec1159b0d56"
      },
      "execution_count": 6,
      "outputs": [
        {
          "output_type": "execute_result",
          "data": {
            "text/plain": [
              "range(0, 7)"
            ]
          },
          "metadata": {},
          "execution_count": 6
        }
      ]
    },
    {
      "cell_type": "code",
      "source": [
        "x = range(7)\n",
        "for i in x: #forloop\n",
        "  print(i)"
      ],
      "metadata": {
        "id": "RcAsbIwRrx4L",
        "colab": {
          "base_uri": "https://localhost:8080/"
        },
        "outputId": "704bebee-7b3c-43e3-8f27-d5c5cb186607"
      },
      "execution_count": 7,
      "outputs": [
        {
          "output_type": "stream",
          "name": "stdout",
          "text": [
            "0\n",
            "1\n",
            "2\n",
            "3\n",
            "4\n",
            "5\n",
            "6\n"
          ]
        }
      ]
    },
    {
      "cell_type": "markdown",
      "source": [
        "Using a `for` loop and the `range` function to fill an empty list via `append`"
      ],
      "metadata": {
        "id": "7m6TTU_xa9dS"
      }
    },
    {
      "cell_type": "code",
      "source": [
        "x=range(7) #range is a function, this example is a range between 0-7, x (variable) = that range\n",
        "empty_list=[] #named a list and not put anything in it\n",
        "print (empty_list) #print to check no elements\n",
        "# wanted to extract values from range and add them to the empty list\n",
        "for i in x: #created a for loop, that accesses the list in the range without modifying it\n",
        "  empty_list.append(i) #built in list function 'append' adds (or appends) every element in range to empty_list\n",
        "print (empty_list)"
      ],
      "metadata": {
        "id": "7xH6IBw_ryYv",
        "colab": {
          "base_uri": "https://localhost:8080/"
        },
        "outputId": "05040816-9ad3-486b-e6e6-eea9a286686a"
      },
      "execution_count": 8,
      "outputs": [
        {
          "output_type": "stream",
          "name": "stdout",
          "text": [
            "[]\n",
            "[0, 1, 2, 3, 4, 5, 6]\n"
          ]
        }
      ]
    },
    {
      "cell_type": "code",
      "source": [
        "shopping_basket=[] #defined an empty list called shopping basket\n",
        "for supplies in shopping_list: #for loop to step through each element of shopping list (haven't used 'i' here as I find it confusing)\n",
        "  shopping_basket.append(supplies) #taken that element and added (append) it to the shopping basket\n",
        "  #print (shopping_basket) #need to lose the step here to combat the output printing adding one element at a time\n",
        "print (shopping_basket) #like this"
      ],
      "metadata": {
        "id": "iQJ51_5irzhr",
        "colab": {
          "base_uri": "https://localhost:8080/"
        },
        "outputId": "3b93e505-7c76-41bc-fa97-db571613c616"
      },
      "execution_count": 9,
      "outputs": [
        {
          "output_type": "stream",
          "name": "stdout",
          "text": [
            "['apples', 'oranges', 'bananas', 'soup', 'bread', 'chocolate']\n"
          ]
        }
      ]
    },
    {
      "cell_type": "markdown",
      "source": [
        "Below using `insert` built in function, I have added tea into the list in the 4th position"
      ],
      "metadata": {
        "id": "aqYy3N7QdeG6"
      }
    },
    {
      "cell_type": "code",
      "source": [
        "shopping_basket.insert(4,'tea') #insert\n",
        "print (shopping_basket)"
      ],
      "metadata": {
        "id": "RJyq_pe3r02j",
        "colab": {
          "base_uri": "https://localhost:8080/"
        },
        "outputId": "cef92e34-3a23-4ceb-b9c9-f00a7ae37c8a"
      },
      "execution_count": 10,
      "outputs": [
        {
          "output_type": "stream",
          "name": "stdout",
          "text": [
            "['apples', 'oranges', 'bananas', 'soup', 'tea', 'bread', 'chocolate']\n"
          ]
        }
      ]
    },
    {
      "cell_type": "markdown",
      "source": [
        "Using `slice` I have taken a slice of the shopping basket within the given range, like taking a slice of a cake"
      ],
      "metadata": {
        "id": "nfr2CLlsdzjG"
      }
    },
    {
      "cell_type": "code",
      "source": [
        "print(shopping_basket[2:5]) #slice"
      ],
      "metadata": {
        "id": "DK3HfYytr16z",
        "colab": {
          "base_uri": "https://localhost:8080/"
        },
        "outputId": "56f17412-fb83-426b-c9f3-c3dfff18b4ba"
      },
      "execution_count": 11,
      "outputs": [
        {
          "output_type": "stream",
          "name": "stdout",
          "text": [
            "['bananas', 'soup', 'tea']\n"
          ]
        }
      ]
    },
    {
      "cell_type": "markdown",
      "source": [
        "###While loops from Lecture"
      ],
      "metadata": {
        "id": "0WyMlRLaeGmZ"
      }
    },
    {
      "cell_type": "code",
      "source": [
        "a = 1\n",
        "while a < 6: #while loop\n",
        "\n",
        "  a += 3 #this is the same as a = a +3\n",
        "  print(a) #after"
      ],
      "metadata": {
        "id": "F1D9oZehr3MS",
        "colab": {
          "base_uri": "https://localhost:8080/"
        },
        "outputId": "380b0c93-e750-4dee-cce9-86ea5262df60"
      },
      "execution_count": 12,
      "outputs": [
        {
          "output_type": "stream",
          "name": "stdout",
          "text": [
            "4\n",
            "7\n"
          ]
        }
      ]
    },
    {
      "cell_type": "markdown",
      "source": [
        "Took some time to understand why 7 isn't printed in this example, a = 1, 3 is added after this is printed, and as it runs again 4 is printed as its less than 6, 3 is still added to the 4, but this means a=7 so will not print as it doesnt meet the conditions of the `while` loop anymore"
      ],
      "metadata": {
        "id": "Xe83j4NAe4gD"
      }
    },
    {
      "cell_type": "code",
      "source": [
        "a = 1\n",
        "while a < 6: #while loop\n",
        "  print(a) #before\n",
        "  a += 3 #this is the same as a = a +3"
      ],
      "metadata": {
        "id": "wy47hE_Kr4k0",
        "colab": {
          "base_uri": "https://localhost:8080/"
        },
        "outputId": "b747702b-b741-4781-d6c2-21132164bbee"
      },
      "execution_count": 13,
      "outputs": [
        {
          "output_type": "stream",
          "name": "stdout",
          "text": [
            "1\n",
            "4\n"
          ]
        }
      ]
    },
    {
      "cell_type": "markdown",
      "source": [
        "###Range function"
      ],
      "metadata": {
        "id": "8m9POTotf3dA"
      }
    },
    {
      "cell_type": "code",
      "source": [
        "x = range (3,6) #if you add a number, it will list all the numbers before from zero, but if you add two numbers it will create a range\n",
        "for y in x: #y is the element that 'picks up' the values within the given range\n",
        "  print(y)"
      ],
      "metadata": {
        "id": "BEo8CnxRr7nG",
        "colab": {
          "base_uri": "https://localhost:8080/"
        },
        "outputId": "0ee2d015-4a1c-4a9d-8608-ba0675d2519f"
      },
      "execution_count": 16,
      "outputs": [
        {
          "output_type": "stream",
          "name": "stdout",
          "text": [
            "3\n",
            "4\n",
            "5\n"
          ]
        }
      ]
    },
    {
      "cell_type": "code",
      "source": [
        "x = range(3, 8, 2) #adding a third number adds an increment\n",
        "for n in x:\n",
        "  print(n)\n"
      ],
      "metadata": {
        "id": "xqlRbwF1r8rV",
        "colab": {
          "base_uri": "https://localhost:8080/"
        },
        "outputId": "27b8eaee-253d-4e03-a4a2-00c47c8daf0b"
      },
      "execution_count": 17,
      "outputs": [
        {
          "output_type": "stream",
          "name": "stdout",
          "text": [
            "3\n",
            "5\n",
            "7\n"
          ]
        }
      ]
    },
    {
      "cell_type": "markdown",
      "source": [
        "#2.1 Tuples, type evaluation and comparison"
      ],
      "metadata": {
        "id": "M0bnJCnkn-89"
      }
    },
    {
      "cell_type": "code",
      "source": [
        "print(type((\"a\",10.5)))"
      ],
      "metadata": {
        "colab": {
          "base_uri": "https://localhost:8080/"
        },
        "id": "t2N1K34roe-B",
        "outputId": "e49360ef-737a-4cd6-8e2f-54a22e128e4c"
      },
      "execution_count": null,
      "outputs": [
        {
          "output_type": "stream",
          "name": "stdout",
          "text": [
            "<class 'tuple'>\n"
          ]
        }
      ]
    },
    {
      "cell_type": "code",
      "source": [
        "print(type((0)))"
      ],
      "metadata": {
        "colab": {
          "base_uri": "https://localhost:8080/"
        },
        "id": "KKVVClGuhYjh",
        "outputId": "6247c838-fba9-4479-fdeb-01f1b6eaba01"
      },
      "execution_count": 19,
      "outputs": [
        {
          "output_type": "stream",
          "name": "stdout",
          "text": [
            "<class 'int'>\n"
          ]
        }
      ]
    },
    {
      "cell_type": "code",
      "source": [
        "print(type((0,))) #notice when there is a comma but no other variable it is still a tuple"
      ],
      "metadata": {
        "colab": {
          "base_uri": "https://localhost:8080/"
        },
        "id": "AbUbUWS4wdSK",
        "outputId": "91ad851c-9015-4627-d2fe-eec163018444"
      },
      "execution_count": 20,
      "outputs": [
        {
          "output_type": "stream",
          "name": "stdout",
          "text": [
            "<class 'tuple'>\n"
          ]
        }
      ]
    },
    {
      "cell_type": "code",
      "source": [
        "print(type(())) #empty tuple"
      ],
      "metadata": {
        "colab": {
          "base_uri": "https://localhost:8080/"
        },
        "id": "SalYYzI2wl40",
        "outputId": "30e8d026-c00e-4202-8fe9-72b80d5776a2"
      },
      "execution_count": 22,
      "outputs": [
        {
          "output_type": "stream",
          "name": "stdout",
          "text": [
            "<class 'tuple'>\n"
          ]
        }
      ]
    },
    {
      "cell_type": "code",
      "source": [
        "print(type(\"hello\"))"
      ],
      "metadata": {
        "colab": {
          "base_uri": "https://localhost:8080/"
        },
        "id": "Z3pnwnLcw8CD",
        "outputId": "fcc48877-ec40-431c-b00a-44f172265cbb"
      },
      "execution_count": 24,
      "outputs": [
        {
          "output_type": "stream",
          "name": "stdout",
          "text": [
            "<class 'str'>\n"
          ]
        }
      ]
    },
    {
      "cell_type": "code",
      "source": [
        "print(type(10.5))"
      ],
      "metadata": {
        "colab": {
          "base_uri": "https://localhost:8080/"
        },
        "id": "tQl1Ebi2xC-l",
        "outputId": "0605a34f-9db8-4de2-8ff6-d39213aa9a06"
      },
      "execution_count": 25,
      "outputs": [
        {
          "output_type": "stream",
          "name": "stdout",
          "text": [
            "<class 'float'>\n"
          ]
        }
      ]
    },
    {
      "cell_type": "code",
      "source": [
        "import math\n",
        "print(type(math.pi)==type(10.5))"
      ],
      "metadata": {
        "colab": {
          "base_uri": "https://localhost:8080/"
        },
        "id": "383FnZWwxGVe",
        "outputId": "12263773-775d-42db-c000-013b675780a5"
      },
      "execution_count": 26,
      "outputs": [
        {
          "output_type": "stream",
          "name": "stdout",
          "text": [
            "True\n"
          ]
        }
      ]
    },
    {
      "cell_type": "code",
      "source": [
        "print(type(10.5)==type(10.5))"
      ],
      "metadata": {
        "id": "Gw2tu15bxdZ3",
        "colab": {
          "base_uri": "https://localhost:8080/"
        },
        "outputId": "609bbc5d-d08f-456b-bea8-1c2f92ecb624"
      },
      "execution_count": 27,
      "outputs": [
        {
          "output_type": "stream",
          "name": "stdout",
          "text": [
            "True\n"
          ]
        }
      ]
    },
    {
      "cell_type": "code",
      "source": [
        "print(type(10.5)==type(\"Hello\"))"
      ],
      "metadata": {
        "colab": {
          "base_uri": "https://localhost:8080/"
        },
        "id": "uxATrkBK11Ug",
        "outputId": "ecc87c64-97e7-49a3-f09f-9bdebb8f973c"
      },
      "execution_count": 28,
      "outputs": [
        {
          "output_type": "stream",
          "name": "stdout",
          "text": [
            "False\n"
          ]
        }
      ]
    },
    {
      "cell_type": "markdown",
      "source": [
        "#2.2 Student Exercise\n",
        "\n",
        "I decided to add an else that meant that the function could not be broken by adding a value that wasn't a `float` `int` or `str`\n",
        "\n",
        "I also used the isinstance function for the logic as I found this to be a more concise and readable way to write my code\n",
        "\n",
        "I could have used e.g type(x)==float"
      ],
      "metadata": {
        "id": "3qrWQ4fT2J27"
      }
    },
    {
      "cell_type": "code",
      "source": [
        "def square_number(x):\n",
        "  if isinstance(x,str):\n",
        "    print(\"Sorry Dave, I'm afraid I can't do that\")\n",
        "    return 0.0\n",
        "  elif isinstance(x,(float,int)):\n",
        "    return x**2\n",
        "  else:\n",
        "    print(\"This is neither a float, integer or string, please try again!\")\n",
        "    return -1.0 #-1.0 or -1 is sometimes used in python to express a 'not a number' value (nan)\n",
        "'''\n",
        "square_number(x=24)\n",
        "square_number(x=24.4)\n",
        "square_number(x=\"Hello!\")\n",
        "'''\n",
        "square_number(x=[])"
      ],
      "metadata": {
        "colab": {
          "base_uri": "https://localhost:8080/"
        },
        "id": "VP-3uNAXQ_cl",
        "outputId": "500266f8-e736-4f72-cb4e-d4e1a0faf7dd"
      },
      "execution_count": 30,
      "outputs": [
        {
          "output_type": "stream",
          "name": "stdout",
          "text": [
            "This is neither a float, integer or string, please try again!\n"
          ]
        },
        {
          "output_type": "execute_result",
          "data": {
            "text/plain": [
              "-1.0"
            ]
          },
          "metadata": {},
          "execution_count": 30
        }
      ]
    },
    {
      "cell_type": "code",
      "source": [
        "isinstance(\"Hello!\",str)"
      ],
      "metadata": {
        "colab": {
          "base_uri": "https://localhost:8080/"
        },
        "id": "JEA9UZF-SMZW",
        "outputId": "aeb3de78-2c04-468e-9f5d-3e75c3bbd581"
      },
      "execution_count": 31,
      "outputs": [
        {
          "output_type": "execute_result",
          "data": {
            "text/plain": [
              "True"
            ]
          },
          "metadata": {},
          "execution_count": 31
        }
      ]
    },
    {
      "cell_type": "code",
      "source": [
        "type(\"hello\") == str"
      ],
      "metadata": {
        "colab": {
          "base_uri": "https://localhost:8080/"
        },
        "id": "snYXWd75SqmI",
        "outputId": "5814ee2f-2a0b-4d62-c0b0-68c73f209049"
      },
      "execution_count": 32,
      "outputs": [
        {
          "output_type": "execute_result",
          "data": {
            "text/plain": [
              "True"
            ]
          },
          "metadata": {},
          "execution_count": 32
        }
      ]
    },
    {
      "cell_type": "markdown",
      "source": [
        "#2.3 Lists\n",
        "A list is an ordered collection of objects which we can change, surrounded by square brackets."
      ],
      "metadata": {
        "id": "vINUBuk98Bmv"
      }
    },
    {
      "cell_type": "code",
      "source": [
        "print(type([]))"
      ],
      "metadata": {
        "colab": {
          "base_uri": "https://localhost:8080/"
        },
        "id": "JaOj2Xwb7hRQ",
        "outputId": "206bed6e-f05b-4ad4-f6eb-4be272dd5523"
      },
      "execution_count": 33,
      "outputs": [
        {
          "output_type": "stream",
          "name": "stdout",
          "text": [
            "<class 'list'>\n"
          ]
        }
      ]
    },
    {
      "cell_type": "code",
      "source": [
        "print(type([2,4]))"
      ],
      "metadata": {
        "colab": {
          "base_uri": "https://localhost:8080/"
        },
        "id": "bUTdkVTd8T_O",
        "outputId": "4afa5646-fbf6-4003-d905-9c45ffc2ce26"
      },
      "execution_count": 34,
      "outputs": [
        {
          "output_type": "stream",
          "name": "stdout",
          "text": [
            "<class 'list'>\n"
          ]
        }
      ]
    },
    {
      "cell_type": "code",
      "source": [
        "print(type(['hello',10.5]))"
      ],
      "metadata": {
        "colab": {
          "base_uri": "https://localhost:8080/"
        },
        "id": "A6CztnSF8h3l",
        "outputId": "b40b463c-b471-4a96-989b-94e3219fc967"
      },
      "execution_count": 35,
      "outputs": [
        {
          "output_type": "stream",
          "name": "stdout",
          "text": [
            "<class 'list'>\n"
          ]
        }
      ]
    },
    {
      "cell_type": "markdown",
      "source": [
        "#2.4 Manipulating a list"
      ],
      "metadata": {
        "id": "ZyMSCtPK9NzW"
      }
    },
    {
      "cell_type": "code",
      "source": [
        "one=[2,3] #changed to 'one' from '1'\n",
        "one.append(5)\n",
        "print(one)"
      ],
      "metadata": {
        "colab": {
          "base_uri": "https://localhost:8080/"
        },
        "id": "16ckViOA8_pz",
        "outputId": "1dc2e606-ff80-41e9-b17b-332c04f799e9"
      },
      "execution_count": 36,
      "outputs": [
        {
          "output_type": "stream",
          "name": "stdout",
          "text": [
            "[2, 3, 5]\n"
          ]
        }
      ]
    },
    {
      "cell_type": "code",
      "source": [
        "one.insert(0,1) #adds object to front of list\n",
        "print(one)"
      ],
      "metadata": {
        "colab": {
          "base_uri": "https://localhost:8080/"
        },
        "id": "JxbOs1v89V6m",
        "outputId": "22153339-392b-4f97-eb30-cf884420f09c"
      },
      "execution_count": 37,
      "outputs": [
        {
          "output_type": "stream",
          "name": "stdout",
          "text": [
            "[1, 2, 3, 5]\n"
          ]
        }
      ]
    },
    {
      "cell_type": "code",
      "source": [
        "one.insert(2,4) #first number is place in the list, second is object\n",
        "print(one)"
      ],
      "metadata": {
        "colab": {
          "base_uri": "https://localhost:8080/"
        },
        "id": "pChgtE4o-S99",
        "outputId": "8f4d379d-b3c7-44d2-d6b4-ba20df4e248c"
      },
      "execution_count": 38,
      "outputs": [
        {
          "output_type": "stream",
          "name": "stdout",
          "text": [
            "[1, 2, 4, 3, 5]\n"
          ]
        }
      ]
    },
    {
      "cell_type": "code",
      "source": [
        "print(one[1]) #prints index position, which always starts at 0"
      ],
      "metadata": {
        "colab": {
          "base_uri": "https://localhost:8080/"
        },
        "id": "-NYWUP42-mNk",
        "outputId": "7826b499-9971-4217-845f-2ffea2683c43"
      },
      "execution_count": 39,
      "outputs": [
        {
          "output_type": "stream",
          "name": "stdout",
          "text": [
            "2\n"
          ]
        }
      ]
    },
    {
      "cell_type": "code",
      "source": [
        "print(one[4]) #index position 4"
      ],
      "metadata": {
        "colab": {
          "base_uri": "https://localhost:8080/"
        },
        "id": "Y-SXmZ0F-8vL",
        "outputId": "d08d7bcd-3cfa-4528-fba8-eb40a046dc7a"
      },
      "execution_count": 40,
      "outputs": [
        {
          "output_type": "stream",
          "name": "stdout",
          "text": [
            "5\n"
          ]
        }
      ]
    },
    {
      "cell_type": "markdown",
      "source": [
        "#2.5 Measuring length, sorting and reversing a list"
      ],
      "metadata": {
        "id": "wclU8-0o_SDb"
      }
    },
    {
      "cell_type": "code",
      "source": [
        "print(len(one)) #measures length of a sequence"
      ],
      "metadata": {
        "colab": {
          "base_uri": "https://localhost:8080/"
        },
        "id": "RWAs1XwO_Jj2",
        "outputId": "86f33c64-9db9-4ea2-8e6f-15d9c4171636"
      },
      "execution_count": 41,
      "outputs": [
        {
          "output_type": "stream",
          "name": "stdout",
          "text": [
            "5\n"
          ]
        }
      ]
    },
    {
      "cell_type": "code",
      "source": [
        "print(len(\"this\")) #measuring the characters in a string"
      ],
      "metadata": {
        "colab": {
          "base_uri": "https://localhost:8080/"
        },
        "id": "5Fh7oy8d_fe0",
        "outputId": "703bf3f2-e664-454e-9c22-ce0d584d81e3"
      },
      "execution_count": 42,
      "outputs": [
        {
          "output_type": "stream",
          "name": "stdout",
          "text": [
            "4\n"
          ]
        }
      ]
    },
    {
      "cell_type": "code",
      "source": [
        "print(len((0,))) #measures item in list"
      ],
      "metadata": {
        "colab": {
          "base_uri": "https://localhost:8080/"
        },
        "id": "bL4DBoBPBGwA",
        "outputId": "f1027269-23fa-4d6a-cc31-d469b89f1490"
      },
      "execution_count": 43,
      "outputs": [
        {
          "output_type": "stream",
          "name": "stdout",
          "text": [
            "1\n"
          ]
        }
      ]
    },
    {
      "cell_type": "code",
      "source": [
        "print(len((0,1,2,3))) #measures item in list"
      ],
      "metadata": {
        "colab": {
          "base_uri": "https://localhost:8080/"
        },
        "id": "4akzrCHsBcCT",
        "outputId": "7acf5346-90c3-4d67-df16-cd3a150ce8c1"
      },
      "execution_count": 44,
      "outputs": [
        {
          "output_type": "stream",
          "name": "stdout",
          "text": [
            "4\n"
          ]
        }
      ]
    },
    {
      "cell_type": "code",
      "source": [
        "one.reverse() #reverse list"
      ],
      "metadata": {
        "id": "DyVDLUhfBk1Q"
      },
      "execution_count": 45,
      "outputs": []
    },
    {
      "cell_type": "code",
      "source": [
        "print(one)"
      ],
      "metadata": {
        "colab": {
          "base_uri": "https://localhost:8080/"
        },
        "id": "5nz5ZbLoBvxl",
        "outputId": "77acae28-b4d0-4773-8f4c-cb42afacb3b9"
      },
      "execution_count": 46,
      "outputs": [
        {
          "output_type": "stream",
          "name": "stdout",
          "text": [
            "[5, 3, 4, 2, 1]\n"
          ]
        }
      ]
    },
    {
      "cell_type": "code",
      "source": [
        "one.sort() #goes up in numerical order\n",
        "print(one)"
      ],
      "metadata": {
        "colab": {
          "base_uri": "https://localhost:8080/"
        },
        "id": "JRKTNpOfBxkE",
        "outputId": "cde11d28-8a9b-4484-f247-c905bb3603d8"
      },
      "execution_count": 47,
      "outputs": [
        {
          "output_type": "stream",
          "name": "stdout",
          "text": [
            "[1, 2, 3, 4, 5]\n"
          ]
        }
      ]
    },
    {
      "cell_type": "code",
      "source": [
        "del one[3] #this is a command, that removes an indexed item, and shifts higher indicies down by one\n",
        "print(one)"
      ],
      "metadata": {
        "colab": {
          "base_uri": "https://localhost:8080/"
        },
        "id": "LJet0ibjB21G",
        "outputId": "6fe95634-0754-4cc4-f81e-47ca877e4fef"
      },
      "execution_count": 48,
      "outputs": [
        {
          "output_type": "stream",
          "name": "stdout",
          "text": [
            "[1, 2, 3, 5]\n"
          ]
        }
      ]
    },
    {
      "cell_type": "code",
      "source": [
        "del one[1]\n",
        "print(one)\n"
      ],
      "metadata": {
        "colab": {
          "base_uri": "https://localhost:8080/"
        },
        "id": "Q-TdsG29Cybi",
        "outputId": "30381d2e-dda4-4be5-e078-5b47f988e97f"
      },
      "execution_count": 49,
      "outputs": [
        {
          "output_type": "stream",
          "name": "stdout",
          "text": [
            "[1, 3, 5]\n"
          ]
        }
      ]
    },
    {
      "cell_type": "markdown",
      "source": [
        "# 2.6 Generating a list using the list() and range() function"
      ],
      "metadata": {
        "id": "8F6ditCbDNKd"
      }
    },
    {
      "cell_type": "code",
      "source": [
        "print(list(range(1,10))) #subtract the start parameter from the end parameter to get the length of a range"
      ],
      "metadata": {
        "colab": {
          "base_uri": "https://localhost:8080/"
        },
        "id": "6KgVvlsjDJjs",
        "outputId": "8e938eff-95be-430e-ff63-1558edc132eb"
      },
      "execution_count": null,
      "outputs": [
        {
          "output_type": "stream",
          "name": "stdout",
          "text": [
            "[1, 2, 3, 4, 5, 6, 7, 8, 9]\n"
          ]
        }
      ]
    },
    {
      "cell_type": "code",
      "source": [
        "print(list(range(1,20,2)))"
      ],
      "metadata": {
        "id": "1bi9hLrmE9J1",
        "colab": {
          "base_uri": "https://localhost:8080/"
        },
        "outputId": "85fd9c55-c63d-41d6-89d5-a69eb68879de"
      },
      "execution_count": null,
      "outputs": [
        {
          "output_type": "stream",
          "name": "stdout",
          "text": [
            "[1, 3, 5, 7, 9, 11, 13, 15, 17, 19]\n"
          ]
        }
      ]
    },
    {
      "cell_type": "code",
      "source": [
        "print(list(range(3,20,3)))"
      ],
      "metadata": {
        "colab": {
          "base_uri": "https://localhost:8080/"
        },
        "id": "Kiv6bZp0faxE",
        "outputId": "6ce816fc-4010-40ba-f15f-5dd05729bb6a"
      },
      "execution_count": null,
      "outputs": [
        {
          "output_type": "stream",
          "name": "stdout",
          "text": [
            "[3, 6, 9, 12, 15, 18]\n"
          ]
        }
      ]
    },
    {
      "cell_type": "code",
      "source": [
        "print(list(range(20,0,-1))) #counting down - negative increment"
      ],
      "metadata": {
        "colab": {
          "base_uri": "https://localhost:8080/"
        },
        "id": "0VLvw09vfhA6",
        "outputId": "3248c00d-3b12-4bb6-abe5-1d2189467488"
      },
      "execution_count": null,
      "outputs": [
        {
          "output_type": "stream",
          "name": "stdout",
          "text": [
            "[20, 19, 18, 17, 16, 15, 14, 13, 12, 11, 10, 9, 8, 7, 6, 5, 4, 3, 2, 1]\n"
          ]
        }
      ]
    },
    {
      "cell_type": "code",
      "source": [
        "print(list(range(20,0,-5)))#start, stop and step"
      ],
      "metadata": {
        "colab": {
          "base_uri": "https://localhost:8080/"
        },
        "id": "DdHb85BxhUrA",
        "outputId": "5973add1-318f-4260-d0d8-05e926436141"
      },
      "execution_count": null,
      "outputs": [
        {
          "output_type": "stream",
          "name": "stdout",
          "text": [
            "[20, 15, 10, 5]\n"
          ]
        }
      ]
    },
    {
      "cell_type": "code",
      "source": [
        "print(list(range(20,0,5))) #the first number is higher than the second and the step wasn't negative, this is called start stop and step"
      ],
      "metadata": {
        "colab": {
          "base_uri": "https://localhost:8080/"
        },
        "id": "c-PjRuCRl5cM",
        "outputId": "7b222eb5-953b-4f89-91b7-4cf3a1bc2b2f"
      },
      "execution_count": 50,
      "outputs": [
        {
          "output_type": "stream",
          "name": "stdout",
          "text": [
            "[]\n"
          ]
        }
      ]
    },
    {
      "cell_type": "markdown",
      "source": [
        "#2.7 Slicing a list"
      ],
      "metadata": {
        "id": "DUrsF4MMhiJA"
      }
    },
    {
      "cell_type": "code",
      "source": [
        "a=list(range(1,11))\n",
        "print(a)"
      ],
      "metadata": {
        "colab": {
          "base_uri": "https://localhost:8080/"
        },
        "id": "5z6OIo6jhfeI",
        "outputId": "d5ffd413-b3ad-4c52-ca93-9532b3459a91"
      },
      "execution_count": null,
      "outputs": [
        {
          "output_type": "stream",
          "name": "stdout",
          "text": [
            "[1, 2, 3, 4, 5, 6, 7, 8, 9, 10]\n"
          ]
        }
      ]
    },
    {
      "cell_type": "code",
      "source": [
        "print(a[3:5])"
      ],
      "metadata": {
        "colab": {
          "base_uri": "https://localhost:8080/"
        },
        "id": "r4Qvsw2ihrTI",
        "outputId": "3589c0da-0454-4688-8d1b-9d75bdececb9"
      },
      "execution_count": null,
      "outputs": [
        {
          "output_type": "stream",
          "name": "stdout",
          "text": [
            "[4, 5]\n"
          ]
        }
      ]
    },
    {
      "cell_type": "code",
      "source": [
        "print(a[:6]) #up to 6"
      ],
      "metadata": {
        "colab": {
          "base_uri": "https://localhost:8080/"
        },
        "id": "I_ghwYAQkuCA",
        "outputId": "ac3e5f48-cfde-4872-addf-901337741c3a"
      },
      "execution_count": null,
      "outputs": [
        {
          "output_type": "stream",
          "name": "stdout",
          "text": [
            "[1, 2, 3, 4, 5, 6]\n"
          ]
        }
      ]
    },
    {
      "cell_type": "code",
      "source": [
        "print(a[6:]) #after 6"
      ],
      "metadata": {
        "colab": {
          "base_uri": "https://localhost:8080/"
        },
        "id": "HqJlXoD7k0yf",
        "outputId": "e2574e73-84d2-4b55-eea2-98ae181f49ab"
      },
      "execution_count": null,
      "outputs": [
        {
          "output_type": "stream",
          "name": "stdout",
          "text": [
            "[7, 8, 9, 10]\n"
          ]
        }
      ]
    },
    {
      "cell_type": "code",
      "source": [
        "print(a) #list hasn't changed permanently by the above actions"
      ],
      "metadata": {
        "colab": {
          "base_uri": "https://localhost:8080/"
        },
        "id": "9QGaQ8oilFnU",
        "outputId": "1f91ed73-61a0-47b6-cd0e-478fcd8022cc"
      },
      "execution_count": 51,
      "outputs": [
        {
          "output_type": "stream",
          "name": "stdout",
          "text": [
            "7\n"
          ]
        }
      ]
    },
    {
      "cell_type": "code",
      "source": [
        "b=a\n",
        "c=a[:] #[:] gets every value in the list, into a new list, c is a brand new list but b = a\n",
        "a.remove(3)\n",
        "print(a)"
      ],
      "metadata": {
        "colab": {
          "base_uri": "https://localhost:8080/"
        },
        "id": "Yr6ZNrg1lVmd",
        "outputId": "5e722046-4256-474e-9873-8b976912f0dd"
      },
      "execution_count": null,
      "outputs": [
        {
          "output_type": "stream",
          "name": "stdout",
          "text": [
            "[1, 2, 4, 5, 6, 7, 8, 9, 10]\n"
          ]
        }
      ]
    },
    {
      "cell_type": "code",
      "source": [
        "print(b)"
      ],
      "metadata": {
        "colab": {
          "base_uri": "https://localhost:8080/"
        },
        "id": "N0Yu6jCVly93",
        "outputId": "737f8f4c-d601-4bf0-bbe0-e31523af4c37"
      },
      "execution_count": null,
      "outputs": [
        {
          "output_type": "stream",
          "name": "stdout",
          "text": [
            "[1, 2, 4, 5, 6, 7, 8, 9, 10]\n"
          ]
        }
      ]
    },
    {
      "cell_type": "code",
      "source": [
        "print(c)"
      ],
      "metadata": {
        "colab": {
          "base_uri": "https://localhost:8080/"
        },
        "id": "TxScaRzul1dU",
        "outputId": "2dba4f97-412b-4916-c331-73988a41d302"
      },
      "execution_count": null,
      "outputs": [
        {
          "output_type": "stream",
          "name": "stdout",
          "text": [
            "[1, 2, 3, 4, 5, 6, 7, 8, 9, 10]\n"
          ]
        }
      ]
    },
    {
      "cell_type": "markdown",
      "source": [
        "#3 Repeating a block statements using a for loop"
      ],
      "metadata": {
        "id": "Uhry1ipbmJVH"
      }
    },
    {
      "cell_type": "code",
      "source": [
        "def timestable(x):\n",
        "  for i in range(1,13):\n",
        "    #print(\"%d times %d is %d\" %(i,x,i*x)) - interpolation - I struggle with this, I find f strings easier to understand\n",
        "    print(f\"{i} times {x} is {i*x}\") #f string\n",
        "timestable (x=7) #calling the function with the argument x=7"
      ],
      "metadata": {
        "colab": {
          "base_uri": "https://localhost:8080/"
        },
        "id": "ZQ-jMZSpl3Aw",
        "outputId": "7a1b3b85-a898-4949-b960-2949eabbf856"
      },
      "execution_count": 52,
      "outputs": [
        {
          "output_type": "stream",
          "name": "stdout",
          "text": [
            "1 times 7 is 7\n",
            "2 times 7 is 14\n",
            "3 times 7 is 21\n",
            "4 times 7 is 28\n",
            "5 times 7 is 35\n",
            "6 times 7 is 42\n",
            "7 times 7 is 49\n",
            "8 times 7 is 56\n",
            "9 times 7 is 63\n",
            "10 times 7 is 70\n",
            "11 times 7 is 77\n",
            "12 times 7 is 84\n"
          ]
        }
      ]
    },
    {
      "cell_type": "markdown",
      "source": [
        "#3.1\n",
        "\n",
        "Changed to float as I wanted the code to work with any number including those with a decimal place"
      ],
      "metadata": {
        "id": "tbyN3XmPoeCZ"
      }
    },
    {
      "cell_type": "code",
      "source": [
        "my_input = input(\"Please enter a number between 1 and 12 \")\n",
        "my_input = float(my_input)\n",
        "timestable(my_input)"
      ],
      "metadata": {
        "colab": {
          "base_uri": "https://localhost:8080/"
        },
        "id": "cwo5rjKnoGha",
        "outputId": "89b5aced-57f6-4995-87b1-b5f42d2febd5"
      },
      "execution_count": 10,
      "outputs": [
        {
          "output_type": "stream",
          "name": "stdout",
          "text": [
            "Please enter a number between 1 and 12 12\n",
            "1 times 12.0 is 12.0\n",
            "2 times 12.0 is 24.0\n",
            "3 times 12.0 is 36.0\n",
            "4 times 12.0 is 48.0\n",
            "5 times 12.0 is 60.0\n",
            "6 times 12.0 is 72.0\n",
            "7 times 12.0 is 84.0\n",
            "8 times 12.0 is 96.0\n",
            "9 times 12.0 is 108.0\n",
            "10 times 12.0 is 120.0\n",
            "11 times 12.0 is 132.0\n",
            "12 times 12.0 is 144.0\n"
          ]
        }
      ]
    }
  ]
}